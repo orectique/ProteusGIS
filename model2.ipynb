{
 "cells": [
  {
   "cell_type": "code",
   "execution_count": 1,
   "metadata": {},
   "outputs": [],
   "source": [
    "import pandas as pd\n",
    "import numpy as np\n",
    "from sklearn.model_selection import train_test_split"
   ]
  },
  {
   "cell_type": "code",
   "execution_count": 16,
   "metadata": {},
   "outputs": [],
   "source": [
    "indata = pd.read_csv('historicalDataMini.csv', index_col = 0)\n",
    "indata['species_'] = indata['species'].astype('category')\n",
    "indata['species'] = indata['species'].str[7:]\n",
    "indata['location_'] = indata['location'].astype('category')\n",
    "data = pd.get_dummies(indata, columns = ['species', 'location'], dtype= 'int64')"
   ]
  },
  {
   "cell_type": "code",
   "execution_count": 17,
   "metadata": {},
   "outputs": [],
   "source": [
    "data['date'] = pd.to_datetime(data['date'])"
   ]
  },
  {
   "cell_type": "code",
   "execution_count": 18,
   "metadata": {},
   "outputs": [],
   "source": [
    "data['year'] = pd.DatetimeIndex(data['date']).year\n",
    "data['month'] = pd.DatetimeIndex(data['date']).month\n",
    "data['day'] = pd.DatetimeIndex(data['date']).day"
   ]
  },
  {
   "cell_type": "code",
   "execution_count": 19,
   "metadata": {},
   "outputs": [
    {
     "data": {
      "text/plain": [
       "Index(['date', 'time', 'catch', 'effort', 'boat', 'species_', 'location_',\n",
       "       'species_1', 'species_10', 'species_11', 'species_12', 'species_13',\n",
       "       'species_2', 'species_3', 'species_4', 'species_5', 'species_6',\n",
       "       'species_7', 'species_8', 'species_9', 'location_AB1', 'location_AB2',\n",
       "       'location_AB3', 'location_C1', 'location_C2', 'location_C3',\n",
       "       'location_E', 'location_H1', 'location_H2', 'location_H3',\n",
       "       'location_H4', 'location_H5', 'location_H6', 'location_MBA', 'year',\n",
       "       'month', 'day'],\n",
       "      dtype='object')"
      ]
     },
     "execution_count": 19,
     "metadata": {},
     "output_type": "execute_result"
    }
   ],
   "source": [
    "data.columns"
   ]
  },
  {
   "cell_type": "code",
   "execution_count": 6,
   "metadata": {},
   "outputs": [],
   "source": [
    "X = data[['year', 'month', 'day', 'time', 'species_1', 'species_10', 'species_11', 'species_12', 'species_13',\n",
    "       'species_2', 'species_3', 'species_4', 'species_5', 'species_6',\n",
    "       'species_7', 'species_8', 'species_9',\n",
    "       'location_AB1', 'location_AB2', 'location_AB3', 'location_C1',\n",
    "       'location_C2', 'location_C3', 'location_E', 'location_H1',\n",
    "       'location_H2', 'location_H3', 'location_H4', 'location_H5',\n",
    "       'location_H6', 'location_MBA']]\n",
    "y = data['catch']"
   ]
  },
  {
   "cell_type": "code",
   "execution_count": 7,
   "metadata": {},
   "outputs": [],
   "source": [
    "X_train, X_test, y_train, y_test = train_test_split(X, y, test_size = 0.2, random_state = 0)"
   ]
  },
  {
   "cell_type": "code",
   "execution_count": 8,
   "metadata": {},
   "outputs": [],
   "source": [
    "from sklearn.ensemble import RandomForestClassifier"
   ]
  },
  {
   "cell_type": "code",
   "execution_count": 9,
   "metadata": {},
   "outputs": [],
   "source": [
    "rfclf = RandomForestClassifier()\n",
    "clf = rfclf.fit(X, y)"
   ]
  },
  {
   "cell_type": "code",
   "execution_count": 10,
   "metadata": {},
   "outputs": [],
   "source": [
    "locations = ['species_species1',\n",
    "       'species_species10', 'species_species11', 'species_species12',\n",
    "       'species_species13', 'species_species2', 'species_species3',\n",
    "       'species_species4', 'species_species5', 'species_species6',\n",
    "       'species_species7', 'species_species8', 'species_species9']\n",
    "\n",
    "species = ['location_AB1', 'location_AB2', 'location_AB3', 'location_C1',\n",
    "       'location_C2', 'location_C3', 'location_E', 'location_H1',\n",
    "       'location_H2', 'location_H3', 'location_H4', 'location_H5',\n",
    "       'location_H6', 'location_MBA']"
   ]
  },
  {
   "cell_type": "code",
   "execution_count": 12,
   "metadata": {},
   "outputs": [],
   "source": [
    "from joblib import dump, load"
   ]
  },
  {
   "cell_type": "code",
   "execution_count": 13,
   "metadata": {},
   "outputs": [
    {
     "data": {
      "text/plain": [
       "['final/rtclf.joblib']"
      ]
     },
     "execution_count": 13,
     "metadata": {},
     "output_type": "execute_result"
    }
   ],
   "source": [
    "\n",
    "dump(clf, 'final/rtclf.joblib')\n",
    "#clf = load('final/rtclf.joblib')"
   ]
  },
  {
   "cell_type": "code",
   "execution_count": null,
   "metadata": {},
   "outputs": [],
   "source": [
    "model = load('final/rtf')"
   ]
  },
  {
   "cell_type": "code",
   "execution_count": null,
   "metadata": {},
   "outputs": [],
   "source": [
    "dictVals = {\n",
    "    'year' : 2022, 'month': 2, 'day': 14, 'time': 1, 'species_species1': 0,\n",
    "       'species_species10': 0, 'species_species11': 0, 'species_species12': 0,\n",
    "       'species_species13': 0, 'species_species2': 0, 'species_species3': 0,\n",
    "       'species_species4': 0, 'species_species5': 0, 'species_species6': 0,\n",
    "       'species_species7': 0, 'species_species8': 0, 'species_species9': 0,\n",
    "       'location_AB1': 0, 'location_AB2': 0, 'location_AB3': 0, 'location_C1': 0,\n",
    "       'location_C2': 0, 'location_C3': 0, 'location_E': 0, 'location_H1': 0,\n",
    "       'location_H2': 0, 'location_H3': 0, 'location_H4': 0, 'location_H5': 0,\n",
    "       'location_H6': 0, 'location_MBA': 0\n",
    "}"
   ]
  },
  {
   "cell_type": "code",
   "execution_count": null,
   "metadata": {},
   "outputs": [],
   "source": [
    "output = pd.DataFrame(columns=['loc', 'species', 'catch'])\n",
    "\n",
    "for spec in species:\n",
    "    for loc in locations:\n",
    "        k = dictVals.copy()\n",
    "        #print(loc, spec)\n",
    "\n",
    "        k[loc] = 1\n",
    "        k[spec] = 1\n",
    "\n",
    "        l = pd.DataFrame(k, index = [0])\n",
    "\n",
    "        #k = np.array([i for j, i in k.items()]).reshape(1, -1)\n",
    "        \n",
    "        output.loc[len(output)] = [spec, loc, clf.predict(l)[0]]\n",
    "\n",
    "output"
   ]
  },
  {
   "cell_type": "code",
   "execution_count": null,
   "metadata": {},
   "outputs": [],
   "source": [
    "output.sort_values(by = 'catch', ascending=False)"
   ]
  },
  {
   "cell_type": "code",
   "execution_count": null,
   "metadata": {},
   "outputs": [],
   "source": []
  }
 ],
 "metadata": {
  "interpreter": {
   "hash": "481fc7cd6916251f71dc8a976626aa70713b9aa6abd7a29295681691c182dc77"
  },
  "kernelspec": {
   "display_name": "Python 3.9.7 ('env')",
   "language": "python",
   "name": "python3"
  },
  "language_info": {
   "codemirror_mode": {
    "name": "ipython",
    "version": 3
   },
   "file_extension": ".py",
   "mimetype": "text/x-python",
   "name": "python",
   "nbconvert_exporter": "python",
   "pygments_lexer": "ipython3",
   "version": "3.9.7"
  },
  "orig_nbformat": 4
 },
 "nbformat": 4,
 "nbformat_minor": 2
}
