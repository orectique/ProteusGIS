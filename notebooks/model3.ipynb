{
 "cells": [
  {
   "cell_type": "code",
   "execution_count": 11,
   "metadata": {},
   "outputs": [],
   "source": [
    "import pandas as pd\n",
    "import numpy as np\n",
    "from sklearn.model_selection import train_test_split"
   ]
  },
  {
   "cell_type": "code",
   "execution_count": 7,
   "metadata": {},
   "outputs": [],
   "source": [
    "indata = pd.read_csv('historicalDataMini.csv', index_col = 0)\n",
    "indata['species_'] = indata['species']\n",
    "indata['species'] = indata['species'].str[7:]\n",
    "indata['location_'] = indata['location']\n",
    "data = pd.get_dummies(indata, columns = ['species', 'location'], dtype= 'int64')"
   ]
  },
  {
   "cell_type": "code",
   "execution_count": 8,
   "metadata": {},
   "outputs": [],
   "source": [
    "data['date'] = pd.to_datetime(data['date'])"
   ]
  },
  {
   "cell_type": "code",
   "execution_count": 9,
   "metadata": {},
   "outputs": [],
   "source": [
    "data['year'] = pd.DatetimeIndex(data['date']).year\n",
    "data['month'] = pd.DatetimeIndex(data['date']).month\n",
    "data['day'] = pd.DatetimeIndex(data['date']).day"
   ]
  },
  {
   "cell_type": "code",
   "execution_count": 10,
   "metadata": {},
   "outputs": [],
   "source": [
    "data.to_csv('API/historicalDataTrain.csv', index=False)"
   ]
  },
  {
   "cell_type": "code",
   "execution_count": 12,
   "metadata": {},
   "outputs": [],
   "source": [
    "data = pd.read_csv('API/historicalDataTrain.csv')"
   ]
  },
  {
   "cell_type": "code",
   "execution_count": 13,
   "metadata": {},
   "outputs": [],
   "source": [
    "X = data[['year', 'month', 'day', 'time', 'species_1', 'species_10', 'species_11', 'species_12', 'species_13',\n",
    "       'species_2', 'species_3', 'species_4', 'species_5', 'species_6',\n",
    "       'species_7', 'species_8', 'species_9',\n",
    "       'location_AB1', 'location_AB2', 'location_AB3', 'location_C1',\n",
    "       'location_C2', 'location_C3', 'location_E', 'location_H1',\n",
    "       'location_H2', 'location_H3', 'location_H4', 'location_H5',\n",
    "       'location_H6', 'location_MBA']]\n",
    "y = data['catch']"
   ]
  },
  {
   "cell_type": "code",
   "execution_count": 14,
   "metadata": {},
   "outputs": [],
   "source": [
    "from sklearn.neural_network import MLPRegressor"
   ]
  },
  {
   "cell_type": "code",
   "execution_count": 15,
   "metadata": {},
   "outputs": [],
   "source": [
    "clf = MLPRegressor(random_state=1, max_iter=300)"
   ]
  },
  {
   "cell_type": "code",
   "execution_count": 16,
   "metadata": {},
   "outputs": [
    {
     "data": {
      "text/plain": [
       "MLPRegressor(max_iter=300, random_state=1)"
      ]
     },
     "execution_count": 16,
     "metadata": {},
     "output_type": "execute_result"
    }
   ],
   "source": [
    "clf.fit(X, y)"
   ]
  },
  {
   "cell_type": "code",
   "execution_count": 23,
   "metadata": {},
   "outputs": [
    {
     "data": {
      "text/plain": [
       "['final/MLPreg.joblib']"
      ]
     },
     "execution_count": 23,
     "metadata": {},
     "output_type": "execute_result"
    }
   ],
   "source": [
    "from joblib import dump, load\n",
    "\n",
    "dump(clf, 'final/MLPreg.joblib')"
   ]
  },
  {
   "cell_type": "code",
   "execution_count": 17,
   "metadata": {},
   "outputs": [],
   "source": [
    "species = ['species_1', 'species_10', 'species_11', 'species_12', 'species_13',\n",
    "       'species_2', 'species_3', 'species_4', 'species_5', 'species_6',\n",
    "       'species_7', 'species_8', 'species_9']\n",
    "\n",
    "locations = ['location_AB1', 'location_AB2', 'location_AB3', 'location_C1',\n",
    "       'location_C2', 'location_C3', 'location_E', 'location_H1',\n",
    "       'location_H2', 'location_H3', 'location_H4', 'location_H5',\n",
    "       'location_H6', 'location_MBA']"
   ]
  },
  {
   "cell_type": "code",
   "execution_count": 18,
   "metadata": {},
   "outputs": [],
   "source": [
    "dictVals = {\n",
    "    'year' : 2022, 'month': 2, 'day': 14, 'time': 1, 'species_1': 0,\n",
    "       'species_10': 0, 'species_11': 0, 'species_12': 0,\n",
    "       'species_13': 0, 'species_2': 0, 'species_3': 0,\n",
    "       'species_4': 0, 'species_5': 0, 'species_6': 0,\n",
    "       'species_7': 0, 'species_8': 0, 'species_9': 0,\n",
    "       'location_AB1': 0, 'location_AB2': 0, 'location_AB3': 0, 'location_C1': 0,\n",
    "       'location_C2': 0, 'location_C3': 0, 'location_E': 0, 'location_H1': 0,\n",
    "       'location_H2': 0, 'location_H3': 0, 'location_H4': 0, 'location_H5': 0,\n",
    "       'location_H6': 0, 'location_MBA': 0\n",
    "}"
   ]
  },
  {
   "cell_type": "code",
   "execution_count": 21,
   "metadata": {},
   "outputs": [],
   "source": [
    "output = pd.DataFrame(columns=['loc', 'species', 'catch'])\n",
    "\n",
    "for spec in species:\n",
    "    for loc in locations:\n",
    "        k = dictVals.copy()\n",
    "\n",
    "        k[loc] = 1\n",
    "        k[spec] = 1\n",
    "\n",
    "        l = pd.DataFrame(k, index = [0])\n",
    "        \n",
    "        output.loc[len(output)] = [loc, spec, clf.predict(l)[0]]\n",
    "\n",
    "output['catch'] = output['catch'].astype(int)"
   ]
  },
  {
   "cell_type": "code",
   "execution_count": 22,
   "metadata": {},
   "outputs": [
    {
     "data": {
      "text/html": [
       "<div>\n",
       "<style scoped>\n",
       "    .dataframe tbody tr th:only-of-type {\n",
       "        vertical-align: middle;\n",
       "    }\n",
       "\n",
       "    .dataframe tbody tr th {\n",
       "        vertical-align: top;\n",
       "    }\n",
       "\n",
       "    .dataframe thead th {\n",
       "        text-align: right;\n",
       "    }\n",
       "</style>\n",
       "<table border=\"1\" class=\"dataframe\">\n",
       "  <thead>\n",
       "    <tr style=\"text-align: right;\">\n",
       "      <th></th>\n",
       "      <th>loc</th>\n",
       "      <th>species</th>\n",
       "      <th>catch</th>\n",
       "    </tr>\n",
       "  </thead>\n",
       "  <tbody>\n",
       "    <tr>\n",
       "      <th>78</th>\n",
       "      <td>location_H2</td>\n",
       "      <td>species_2</td>\n",
       "      <td>376</td>\n",
       "    </tr>\n",
       "    <tr>\n",
       "      <th>72</th>\n",
       "      <td>location_AB3</td>\n",
       "      <td>species_2</td>\n",
       "      <td>374</td>\n",
       "    </tr>\n",
       "    <tr>\n",
       "      <th>70</th>\n",
       "      <td>location_AB1</td>\n",
       "      <td>species_2</td>\n",
       "      <td>358</td>\n",
       "    </tr>\n",
       "    <tr>\n",
       "      <th>77</th>\n",
       "      <td>location_H1</td>\n",
       "      <td>species_2</td>\n",
       "      <td>352</td>\n",
       "    </tr>\n",
       "    <tr>\n",
       "      <th>71</th>\n",
       "      <td>location_AB2</td>\n",
       "      <td>species_2</td>\n",
       "      <td>345</td>\n",
       "    </tr>\n",
       "    <tr>\n",
       "      <th>...</th>\n",
       "      <td>...</td>\n",
       "      <td>...</td>\n",
       "      <td>...</td>\n",
       "    </tr>\n",
       "    <tr>\n",
       "      <th>101</th>\n",
       "      <td>location_C1</td>\n",
       "      <td>species_4</td>\n",
       "      <td>-24</td>\n",
       "    </tr>\n",
       "    <tr>\n",
       "      <th>52</th>\n",
       "      <td>location_H4</td>\n",
       "      <td>species_12</td>\n",
       "      <td>-27</td>\n",
       "    </tr>\n",
       "    <tr>\n",
       "      <th>178</th>\n",
       "      <td>location_H4</td>\n",
       "      <td>species_9</td>\n",
       "      <td>-27</td>\n",
       "    </tr>\n",
       "    <tr>\n",
       "      <th>136</th>\n",
       "      <td>location_H4</td>\n",
       "      <td>species_6</td>\n",
       "      <td>-31</td>\n",
       "    </tr>\n",
       "    <tr>\n",
       "      <th>108</th>\n",
       "      <td>location_H4</td>\n",
       "      <td>species_4</td>\n",
       "      <td>-44</td>\n",
       "    </tr>\n",
       "  </tbody>\n",
       "</table>\n",
       "<p>182 rows × 3 columns</p>\n",
       "</div>"
      ],
      "text/plain": [
       "              loc     species  catch\n",
       "78    location_H2   species_2    376\n",
       "72   location_AB3   species_2    374\n",
       "70   location_AB1   species_2    358\n",
       "77    location_H1   species_2    352\n",
       "71   location_AB2   species_2    345\n",
       "..            ...         ...    ...\n",
       "101   location_C1   species_4    -24\n",
       "52    location_H4  species_12    -27\n",
       "178   location_H4   species_9    -27\n",
       "136   location_H4   species_6    -31\n",
       "108   location_H4   species_4    -44\n",
       "\n",
       "[182 rows x 3 columns]"
      ]
     },
     "execution_count": 22,
     "metadata": {},
     "output_type": "execute_result"
    }
   ],
   "source": [
    "output.sort_values(by = 'catch', ascending = False)"
   ]
  },
  {
   "cell_type": "code",
   "execution_count": null,
   "metadata": {},
   "outputs": [],
   "source": []
  }
 ],
 "metadata": {
  "interpreter": {
   "hash": "481fc7cd6916251f71dc8a976626aa70713b9aa6abd7a29295681691c182dc77"
  },
  "kernelspec": {
   "display_name": "Python 3.9.7 ('env')",
   "language": "python",
   "name": "python3"
  },
  "language_info": {
   "codemirror_mode": {
    "name": "ipython",
    "version": 3
   },
   "file_extension": ".py",
   "mimetype": "text/x-python",
   "name": "python",
   "nbconvert_exporter": "python",
   "pygments_lexer": "ipython3",
   "version": "3.9.7"
  },
  "orig_nbformat": 4
 },
 "nbformat": 4,
 "nbformat_minor": 2
}
